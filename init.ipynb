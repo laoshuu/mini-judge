{
 "cells": [
  {
   "cell_type": "code",
   "execution_count": 1,
   "metadata": {},
   "outputs": [],
   "source": [
    "import inspect\n",
    "import uuid"
   ]
  },
  {
   "cell_type": "code",
   "execution_count": null,
   "metadata": {},
   "outputs": [],
   "source": [
    "# 參數設定\n",
    "q_num = 6                                # 問題數量\n",
    "sample_num = 2                           # 不計分 (sample) 測資數量\n",
    "non_sample_num = 10                      # 計分測資數量\n",
    "testcase_scores = [2, 2, 2, 2, 2, 2]     # 各題測資配分"
   ]
  },
  {
   "cell_type": "code",
   "execution_count": 4,
   "metadata": {},
   "outputs": [],
   "source": [
    "# 將從文件讀出的測資，根據 info.txt 轉換成相應的變數。\n",
    "def convert_type(vars, var_type):\n",
    "    for j, var in enumerate(vars):\n",
    "        if \"list\" in var_type[j]:   # handle list input\n",
    "            element_type = eval(var_type[j][var_type[j].find(\"(\") + 1 : var_type[j].find(\")\")])\n",
    "            vars[j] = list(map(element_type, var.split(' '))) \n",
    "        else:\n",
    "            if eval(var_type[j]) == bool:\n",
    "                vars[j] = eval(var) # handle bool input\n",
    "            else:\n",
    "                vars[j] = eval(var_type[j])(var) # handle int, str input\n",
    "    return vars"
   ]
  },
  {
   "cell_type": "code",
   "execution_count": 5,
   "metadata": {},
   "outputs": [],
   "source": [
    "def init(q = 1, sample = True):\n",
    "    # sample or non-sample 的初始化\n",
    "    if sample:\n",
    "        testcase_num = sample_num\n",
    "        fp = 'sample'\n",
    "    else:\n",
    "        testcase_num = non_sample_num\n",
    "        fp = 'testcase'\n",
    "\n",
    "    # 讀取測資相關資訊（info.txt）\n",
    "    path = f'./testcase/Q{q}'\n",
    "    with open(path + f'/Q{q}_info.txt') as file:\n",
    "        info = file.readlines()\n",
    "        info = [t.strip() for t in info]\n",
    "        input_num = int(info[0])\n",
    "        ans_num = int(info[2])\n",
    "        input_type = [tp for tp in info[1].split(' ')]\n",
    "        ans_type = [tp for tp in info[3].split(' ')]\n",
    "        \n",
    "        # 讀取測資（sample_XX.txt, testcase_XX.txt）\n",
    "        params = []\n",
    "        for i in range(1, testcase_num + 1):\n",
    "            with open(path + f'/Q{q}_{fp}_{\"0\" * (1 - i // 10)}{i}.txt', 'r', encoding=\"utf-8\") as f:\n",
    "                text = f.readlines()\n",
    "                text = [t.strip() for t in text]\n",
    "\n",
    "                inputs, outputs = text[:input_num], text[input_num:]\n",
    "                inputs = convert_type(inputs, input_type)\n",
    "                outputs = convert_type(outputs, ans_type)\n",
    "            params.append({'input': inputs, 'output': outputs})  \n",
    "    return params\n"
   ]
  },
  {
   "cell_type": "code",
   "execution_count": 6,
   "metadata": {},
   "outputs": [],
   "source": [
    "# 將錯題資訊提供給參賽者，印出錯誤測資及其變數名稱\n",
    "def map_input(i, var_names, var_vals, ans):\n",
    "    hint_str = f\"input: {var_names[0]} = {var_vals[0]}\"\n",
    "    for i in range(1, len(var_names)):\n",
    "        hint_str += (f\", {var_names[i]} = {var_vals[i]}\")\n",
    "    hint_str += f\"\\noutput: \"\n",
    "    hint_str += f\"{' '.join(map(str, ans))}\"\n",
    "    return hint_str"
   ]
  },
  {
   "cell_type": "code",
   "execution_count": 7,
   "metadata": {},
   "outputs": [],
   "source": [
    "class Problem:\n",
    "    def __init__(self, id):\n",
    "        self.id = id\n",
    "        self.sample = init(self.id, True)\n",
    "        self.__testcase = init(self.id, False)\n",
    "        self.point = testcase_scores[self.id - 1]\n",
    "        \n",
    "    def solve(self, func, isSample):\n",
    "        solving_inputs = self.sample if isSample else self.__testcase\n",
    "        for i, case in enumerate(solving_inputs):\n",
    "            input = case['input']\n",
    "            ans = case['output']\n",
    "            try:\n",
    "                written_ans = func(*input)\n",
    "                if type(written_ans) == tuple:\n",
    "                    written_ans = list(written_ans)\n",
    "                else:\n",
    "                    written_ans = [written_ans]\n",
    "                if written_ans != ans:\n",
    "                    return i, map_input(i + 1, inspect.getfullargspec(func).args, input, ans)\n",
    "            except Exception as e: \n",
    "                raise Exception(\"Oh no! please contact TA\") from e\n",
    "        return len(solving_inputs), \"\"\n"
   ]
  },
  {
   "cell_type": "code",
   "execution_count": 8,
   "metadata": {},
   "outputs": [],
   "source": [
    "class Player:\n",
    "    def __init__(self):\n",
    "        self.id = uuid.uuid4()\n",
    "        self.problem = [Problem(i) for i in range(1, 7)]\n",
    "        self.score = [0 for _ in range(6)]\n",
    "        self.submit_cnt = [0 for _ in range(6)]\n",
    "        \n",
    "    # 不計分測資（sample）\n",
    "    def run(self, id, func):\n",
    "        hint_str = \"\"\n",
    "        pass_num, wrong_testcase = self.problem[id - 1].solve(func, True)\n",
    "        if wrong_testcase:\n",
    "            hint_str = f\"\\n\\nSample {pass_num + 1} failed\\n{wrong_testcase}\"\n",
    "        print(f\"Numbers of sample passed: {pass_num}/2\" + hint_str)\n",
    "        \n",
    "    # 計分測資（testcase）    \n",
    "    def submit(self, id, func):\n",
    "        hint_str = \"\"\n",
    "        pass_num, wrong_testcase = self.problem[id - 1].solve(func, False)\n",
    "        if wrong_testcase:\n",
    "            hint_str = f\"\\n\\nTestcase {pass_num + 1} failed\\n{wrong_testcase}\"\n",
    "        print(f\"Numbers of testcase passed: {pass_num}/10\" + hint_str)\n",
    "        self.submit_cnt[id - 1] += 1\n",
    "        self.score[id - 1] = max(self.score[id - 1], pass_num * self.problem[id - 1].point)\n",
    "    \n",
    "    # 查看分數    \n",
    "    def view_score(self):\n",
    "        print(\"Score for each problem: \", self.score)\n",
    "        print(f\"Total: {sum(self.score)}\")"
   ]
  }
 ],
 "metadata": {
  "kernelspec": {
   "display_name": "Python 3 (ipykernel)",
   "language": "python",
   "name": "python3"
  },
  "language_info": {
   "codemirror_mode": {
    "name": "ipython",
    "version": 3
   },
   "file_extension": ".py",
   "mimetype": "text/x-python",
   "name": "python",
   "nbconvert_exporter": "python",
   "pygments_lexer": "ipython3",
   "version": "3.11.5"
  }
 },
 "nbformat": 4,
 "nbformat_minor": 2
}
