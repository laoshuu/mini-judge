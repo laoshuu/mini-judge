{
 "cells": [
  {
   "cell_type": "code",
   "execution_count": 2,
   "metadata": {},
   "outputs": [],
   "source": [
    "from create_test import *\n",
    "player = Player()"
   ]
  },
  {
   "cell_type": "markdown",
   "metadata": {
    "id": "mfBYi3d68ln4"
   },
   "source": [
    "## 程式競賽"
   ]
  },
  {
   "cell_type": "markdown",
   "metadata": {
    "id": "_n0XIw818pTg"
   },
   "source": [
    "### 第一題"
   ]
  },
  {
   "cell_type": "markdown",
   "metadata": {
    "id": "56dnA20qCHKS"
   },
   "source": [
    "派大星參加棒球比賽，正要打出關鍵的一球。如果他打出的這球速度超過時速 158 公里，而且仰角介於 25 到 35 度的話，就能打出全壘打，贏得比賽。\n",
    "<br>給你兩個數字，分別是速度和仰角，請幫忙判斷是不是全壘打吧！"
   ]
  },
  {
   "cell_type": "markdown",
   "metadata": {
    "id": "GCWtwAJStFcO"
   },
   "source": [
    "#### 說明：\n",
    "\n",
    "- speed 是球被打出去的速度，angle 是球被打出去的角度\n",
    "- 速度和角度的單位都可以忽略\n",
    "\n",
    "#### 限制:\n",
    "\n",
    "- speed >= 0\n",
    "- 90 > angle > -90 "
   ]
  },
  {
   "cell_type": "markdown",
   "metadata": {
    "id": "inVpeYOISRq1"
   },
   "source": [
    "#### Sample 1\n",
    "\n",
    "\n",
    "**input**: speed = 175, angle = 34\n",
    "\n",
    "\n",
    "**output**: '全壘打'\n",
    "\n",
    "#### Sample 2\n",
    "\n",
    "\n",
    "**input**: speed = 143, angle = 38\n",
    "\n",
    "\n",
    "**output**: ':('"
   ]
  },
  {
   "cell_type": "code",
   "execution_count": null,
   "metadata": {},
   "outputs": [],
   "source": [
    "# 將程式碼寫在這邊，寫完再請助教幫你跑看看！\n",
    "speed = 175\n",
    "angle = 34\n"
   ]
  },
  {
   "cell_type": "code",
   "execution_count": 4,
   "metadata": {},
   "outputs": [],
   "source": [
    "def sol_1(speed: int, angle: int) -> str:\n",
    "    if speed >= 158:\n",
    "        if angle <= 35 and angle >= 25:\n",
    "            return '全壘打'\n",
    "        else:\n",
    "            return ':('\n",
    "    else:\n",
    "        return ':('"
   ]
  },
  {
   "cell_type": "code",
   "execution_count": 8,
   "metadata": {},
   "outputs": [
    {
     "name": "stdout",
     "output_type": "stream",
     "text": [
      "Numbers of sample passed: 2/2\n"
     ]
    }
   ],
   "source": [
    "player.run(1, sol_1)"
   ]
  },
  {
   "cell_type": "code",
   "execution_count": null,
   "metadata": {},
   "outputs": [
    {
     "name": "stdout",
     "output_type": "stream",
     "text": [
      "Numbers of testcase passed: 10/10\n"
     ]
    }
   ],
   "source": [
    "player.submit(1, sol_1)"
   ]
  },
  {
   "cell_type": "markdown",
   "metadata": {
    "id": "4ykUslLH9LwR"
   },
   "source": [
    "### 第二題"
   ]
  },
  {
   "cell_type": "markdown",
   "metadata": {
    "id": "uhW4qtJKQr11"
   },
   "source": [
    "蝦霸去參加舉重比賽，他的最佳成績是 76 公斤。他迫不及待想知道他得到了第幾名。<br>\n",
    "給你其它選手的成績，請告訴蝦霸他是第幾名。"
   ]
  },
  {
   "cell_type": "markdown",
   "metadata": {
    "id": "eQQLdWLPwREe"
   },
   "source": [
    "#### 說明：\n",
    "\n",
    "- scores 是其他人的舉重成績\n",
    "- 每個人的成績都不同\n",
    "- 蝦霸的成績是 76 公斤\n",
    "\n",
    "#### 限制:\n",
    "\n",
    "- scores  ≥ 0"
   ]
  },
  {
   "cell_type": "markdown",
   "metadata": {
    "id": "-rYF7VinVwal"
   },
   "source": [
    "#### Sample 1\n",
    "\n",
    "\n",
    "**input**: scores = [30, 40, 50, 60, 70, 80]\n",
    "\n",
    "\n",
    "**output**: 2\n",
    "\n",
    "\n",
    "#### Sample 2\n",
    "\n",
    "\n",
    "**input**: scores = [80, 72, 74, 78, 70]\n",
    "\n",
    "\n",
    "**output**: 3"
   ]
  },
  {
   "cell_type": "code",
   "execution_count": null,
   "metadata": {},
   "outputs": [],
   "source": [
    "# 將程式碼寫在這邊，寫完再請助教幫你跑看看！\n",
    "scores = [30, 40, 50, 60, 70, 80]\n"
   ]
  },
  {
   "cell_type": "code",
   "execution_count": null,
   "metadata": {},
   "outputs": [],
   "source": [
    "def sol_2(scores: list[int]) -> int:\n",
    "    ranking = 1\n",
    "    for score in scores:\n",
    "        if score > 76:\n",
    "            ranking = ranking + 1\n",
    "    return ranking"
   ]
  },
  {
   "cell_type": "code",
   "execution_count": null,
   "metadata": {},
   "outputs": [
    {
     "name": "stdout",
     "output_type": "stream",
     "text": [
      "Numbers of sample passed: 2/2\n"
     ]
    }
   ],
   "source": [
    "player.run(2, sol_2)"
   ]
  },
  {
   "cell_type": "code",
   "execution_count": null,
   "metadata": {},
   "outputs": [
    {
     "name": "stdout",
     "output_type": "stream",
     "text": [
      "Numbers of testcase passed: 10/10\n"
     ]
    }
   ],
   "source": [
    "player.submit(2, sol_2)"
   ]
  },
  {
   "cell_type": "markdown",
   "metadata": {},
   "source": [
    "### 第三題"
   ]
  },
  {
   "cell_type": "markdown",
   "metadata": {},
   "source": [
    "海之霸的業績最近不太好，皮老闆想知道這幾個月來到底是賺錢還是虧錢。給你海之霸最近幾個月營業額，請你告訴皮老闆到底有沒有賺錢。"
   ]
  },
  {
   "cell_type": "markdown",
   "metadata": {},
   "source": [
    "#### 說明：\n",
    "\n",
    "- sales 是海之霸這幾個月的業績\n",
    "- 業績有正有負\n",
    "- 總業績大於 0 為 True, 反之 False\n",
    "- 答案請用布林值表示\n",
    "\n",
    "#### 限制:\n",
    "\n",
    "- 總業績不等於 0"
   ]
  },
  {
   "cell_type": "markdown",
   "metadata": {},
   "source": [
    "#### Sample 1\n",
    "\n",
    "\n",
    "**input**: sales =  [-1, 2, -3]\n",
    "\n",
    "\n",
    "**output**: False\n",
    "\n",
    "#### Sample 2\n",
    "\n",
    "\n",
    "**input**: sales =  [1, 2, 3]\n",
    "\n",
    "\n",
    "**output**: True"
   ]
  },
  {
   "cell_type": "code",
   "execution_count": null,
   "metadata": {},
   "outputs": [],
   "source": [
    "sales =  [-1, 2, -3]\n"
   ]
  },
  {
   "cell_type": "code",
   "execution_count": null,
   "metadata": {},
   "outputs": [],
   "source": [
    "def sol_3(sales: list[int]) -> bool:\n",
    "    total_sale = 0\n",
    "    for sale in sales:\n",
    "        total_sale = total_sale + sale\n",
    "    if total_sale > 0:\n",
    "        return True\n",
    "    else:\n",
    "        return False"
   ]
  },
  {
   "cell_type": "code",
   "execution_count": null,
   "metadata": {},
   "outputs": [
    {
     "name": "stdout",
     "output_type": "stream",
     "text": [
      "Numbers of sample passed: 2/2\n"
     ]
    }
   ],
   "source": [
    "player.run(3, sol_3)"
   ]
  },
  {
   "cell_type": "code",
   "execution_count": null,
   "metadata": {},
   "outputs": [
    {
     "name": "stdout",
     "output_type": "stream",
     "text": [
      "Numbers of testcase passed: 10/10\n"
     ]
    }
   ],
   "source": [
    "player.submit(3, sol_3)"
   ]
  },
  {
   "cell_type": "markdown",
   "metadata": {
    "id": "qMB6ZZsc9nEv"
   },
   "source": [
    "### 第四題"
   ]
  },
  {
   "cell_type": "markdown",
   "metadata": {
    "id": "igC45lwcIJil"
   },
   "source": [
    "派大星不小心被珊迪被劈成兩半了!但沒關係，海星可以分裂。海綿寶寶好奇這樣下去派大星會不會分裂太多。每次派大星分裂數量都會變成兩倍。<br>\n",
    "給你一個數字，告訴海綿寶寶派大星分裂幾次會達到這個數字。"
   ]
  },
  {
   "cell_type": "markdown",
   "metadata": {},
   "source": [
    "#### 說明：\n",
    "\n",
    "- limit 是分裂後派大星的數量不小於的數字\n",
    "- 派大星一開始只有一個\n",
    "\n",
    "#### 限制:\n",
    "\n",
    "- limit >= 0"
   ]
  },
  {
   "cell_type": "markdown",
   "metadata": {
    "id": "B8lAv19HnsWi"
   },
   "source": [
    "#### Sample 1\n",
    "\n",
    "\n",
    "**input**: limit =  10\n",
    "\n",
    "\n",
    "**output**: 4\n",
    "\n",
    "#### Sample 2\n",
    "\n",
    "\n",
    "**input**: limit =  4\n",
    "\n",
    "\n",
    "**output**: 2"
   ]
  },
  {
   "cell_type": "code",
   "execution_count": null,
   "metadata": {},
   "outputs": [],
   "source": [
    "# 將程式碼寫在這邊，寫完再請助教幫你跑看看！\n",
    "limit = 10\n"
   ]
  },
  {
   "cell_type": "code",
   "execution_count": null,
   "metadata": {
    "id": "1LxXn4ewIJGO"
   },
   "outputs": [],
   "source": [
    "def sol_4(limit: int) -> int:\n",
    "    patricks = 1\n",
    "    count = 0\n",
    "    while patricks < limit:\n",
    "        patricks = 2 * patricks\n",
    "        count = count + 1\n",
    "    return count"
   ]
  },
  {
   "cell_type": "code",
   "execution_count": null,
   "metadata": {},
   "outputs": [
    {
     "name": "stdout",
     "output_type": "stream",
     "text": [
      "Numbers of sample passed: 2/2\n"
     ]
    }
   ],
   "source": [
    "player.run(4, sol_4)"
   ]
  },
  {
   "cell_type": "code",
   "execution_count": null,
   "metadata": {},
   "outputs": [
    {
     "name": "stdout",
     "output_type": "stream",
     "text": [
      "Numbers of testcase passed: 10/10\n"
     ]
    }
   ],
   "source": [
    "player.submit(4, sol_4)"
   ]
  },
  {
   "cell_type": "markdown",
   "metadata": {
    "id": "g9bGV34-913M"
   },
   "source": [
    "### 第五題"
   ]
  },
  {
   "cell_type": "markdown",
   "metadata": {
    "id": "REbVYM3LBVTe"
   },
   "source": [
    "─延續範例二，海綿寶寶想要知道他中了多少錢，他手上的彩券每有一個中獎的號碼就得到 100 元。<br>\n",
    "請幫海綿寶寶對獎，並告訴他中了多少錢。"
   ]
  },
  {
   "cell_type": "markdown",
   "metadata": {
    "id": "DrVjKyKRxZ26"
   },
   "source": [
    "#### 說明：\n",
    "\n",
    "- lottery 為海綿寶寶手上的彩票號碼\n",
    "- prized_nums 為中獎的號碼\n",
    "\n",
    "#### 限制:\n",
    "\n",
    "- lottery 中的數字可能會重複\n",
    "- prized_num 中的數字不會重複"
   ]
  },
  {
   "cell_type": "markdown",
   "metadata": {
    "id": "KbVQLswCMtXk"
   },
   "source": [
    "### Sample 1\n",
    "**Input:** \n",
    "\n",
    "lottery = [1, 2, 3, 4, 5]<br>\n",
    "prized_nums = [1, 2]\n",
    "\n",
    "**Output:**\n",
    "\n",
    "200\n",
    "\n",
    "### Sample 2\n",
    "**Input:** \n",
    "\n",
    "lottery = [1, 3, 5, 7, 9]<br>\n",
    "prized_nums：[6]\n",
    "\n",
    "**Output:**\n",
    "\n",
    "0"
   ]
  },
  {
   "cell_type": "code",
   "execution_count": null,
   "metadata": {},
   "outputs": [],
   "source": [
    "# 將程式碼寫在這邊，寫完再請助教幫你跑看看！\n",
    "lottery = [1, 2, 3, 4, 5]\n",
    "prized_nums = [1, 2]\n"
   ]
  },
  {
   "cell_type": "code",
   "execution_count": null,
   "metadata": {},
   "outputs": [],
   "source": [
    "def sol_5(lottery: list[int], prized_nums: list[int]) -> int:\n",
    "    money = 0\n",
    "    for num in lottery:\n",
    "        for prized_num in prized_nums:\n",
    "            if num == prized_num:\n",
    "                money = money + 100\n",
    "    return money"
   ]
  },
  {
   "cell_type": "code",
   "execution_count": null,
   "metadata": {},
   "outputs": [
    {
     "name": "stdout",
     "output_type": "stream",
     "text": [
      "Numbers of sample passed: 2/2\n"
     ]
    }
   ],
   "source": [
    "player.run(5, sol_5)"
   ]
  },
  {
   "cell_type": "code",
   "execution_count": null,
   "metadata": {},
   "outputs": [
    {
     "name": "stdout",
     "output_type": "stream",
     "text": [
      "Numbers of testcase passed: 10/10\n"
     ]
    }
   ],
   "source": [
    "player.submit(5, sol_5)"
   ]
  },
  {
   "cell_type": "markdown",
   "metadata": {
    "id": "5OGuovYO-EWN"
   },
   "source": [
    "### 第六題"
   ]
  },
  {
   "cell_type": "markdown",
   "metadata": {
    "id": "nwVLfMJLH7Qi"
   },
   "source": [
    "海綿寶寶拿著中獎的彩券去找章魚哥兌獎，海綿寶寶不喜歡拿太多零錢，所以希望硬幣的數量越少越好。硬幣的面額分別是 [1, 5, 10, 50]<br>\n",
    "已知派大星中多少錢，你可以幫忙章魚哥算算最少需要幾個硬幣嗎?"
   ]
  },
  {
   "cell_type": "markdown",
   "metadata": {
    "id": "6Zl2nF6ox5tx"
   },
   "source": [
    "#### 說明：\n",
    "\n",
    "- 只需要輸出總共有幾個硬幣，不論種類\n",
    "- money 是中獎的金額\n",
    "- 可以想想看平常換錢的順序，從面額大的換到小的"
   ]
  },
  {
   "cell_type": "markdown",
   "metadata": {
    "id": "ZLgzhCc8To2C"
   },
   "source": [
    "#### Sample 1\n",
    "**Input:** \n",
    "\n",
    "money = 200\n",
    "\n",
    "**Output:**\n",
    "\n",
    "4\n",
    "#### Sample 2\n",
    "**Input:** \n",
    "\n",
    "money = 137\n",
    "\n",
    "**Output:**\n",
    "\n",
    "8"
   ]
  },
  {
   "cell_type": "code",
   "execution_count": null,
   "metadata": {},
   "outputs": [],
   "source": [
    "# 將程式碼寫在這邊，寫完再請助教幫你跑看看！\n",
    "money = 200\n"
   ]
  },
  {
   "cell_type": "code",
   "execution_count": null,
   "metadata": {},
   "outputs": [],
   "source": [
    "def sol_6(money: int) -> int:\n",
    "    coins = [50, 10, 5, 1]\n",
    "    count = 0\n",
    "    for coin in coins:\n",
    "        while money - coin >= 0:\n",
    "            money = money - coin\n",
    "            count = count + 1\n",
    "    return count"
   ]
  },
  {
   "cell_type": "code",
   "execution_count": null,
   "metadata": {},
   "outputs": [
    {
     "name": "stdout",
     "output_type": "stream",
     "text": [
      "Numbers of sample passed: 2/2\n"
     ]
    }
   ],
   "source": [
    "player.run(6, sol_6)"
   ]
  },
  {
   "cell_type": "code",
   "execution_count": null,
   "metadata": {},
   "outputs": [
    {
     "name": "stdout",
     "output_type": "stream",
     "text": [
      "Numbers of testcase passed: 10/10\n"
     ]
    }
   ],
   "source": [
    "player.submit(6, sol_6)"
   ]
  }
 ],
 "metadata": {
  "colab": {
   "provenance": []
  },
  "kernelspec": {
   "display_name": "Python 3 (ipykernel)",
   "language": "python",
   "name": "python3"
  },
  "language_info": {
   "codemirror_mode": {
    "name": "ipython",
    "version": 3
   },
   "file_extension": ".py",
   "mimetype": "text/x-python",
   "name": "python",
   "nbconvert_exporter": "python",
   "pygments_lexer": "ipython3",
   "version": "3.11.5"
  }
 },
 "nbformat": 4,
 "nbformat_minor": 1
}
